{
  "nbformat": 4,
  "nbformat_minor": 0,
  "metadata": {
    "colab": {
      "provenance": []
    },
    "kernelspec": {
      "name": "python3",
      "display_name": "Python 3"
    },
    "language_info": {
      "name": "python"
    }
  },
  "cells": [
    {
      "cell_type": "code",
      "execution_count": null,
      "metadata": {
        "colab": {
          "base_uri": "https://localhost:8080/"
        },
        "id": "HNVBFsxfm0Ok",
        "outputId": "1633705d-6378-4ab6-e7a5-9230fa252af0"
      },
      "outputs": [
        {
          "output_type": "execute_result",
          "data": {
            "text/plain": [
              "device(type='cpu')"
            ]
          },
          "metadata": {},
          "execution_count": 1
        }
      ],
      "source": [
        "import torch\n",
        "import torch.nn as nn\n",
        "\n",
        "import numpy as np\n",
        "\n",
        "device = torch.device('cuda' if torch.cuda.is_available() else 'cpu')\n",
        "device"
      ]
    },
    {
      "cell_type": "code",
      "source": [
        "from __future__ import print_function, division\n",
        "\n",
        "import torch\n",
        "import torch.nn as nn\n",
        "import torch.optim as optim\n",
        "from torch.optim import lr_scheduler\n",
        "import torch.backends.cudnn as cudnn\n",
        "import numpy as np\n",
        "import torchvision\n",
        "from torchvision import datasets, models, transforms\n",
        "import matplotlib.pyplot as plt\n",
        "import time\n",
        "import os\n",
        "import copy\n",
        "\n",
        "cudnn.benchmark = True\n",
        "plt.ion()   # interactive mode"
      ],
      "metadata": {
        "id": "HKFOviohj-Rh"
      },
      "execution_count": null,
      "outputs": []
    },
    {
      "cell_type": "code",
      "source": [
        "from google.colab import drive\n",
        "drive.mount('/content/drive')"
      ],
      "metadata": {
        "id": "OTtpKuvOnTEJ",
        "outputId": "74274af2-fac3-43c4-fc2f-3e6b4218375a",
        "colab": {
          "base_uri": "https://localhost:8080/"
        }
      },
      "execution_count": null,
      "outputs": [
        {
          "output_type": "stream",
          "name": "stdout",
          "text": [
            "Drive already mounted at /content/drive; to attempt to forcibly remount, call drive.mount(\"/content/drive\", force_remount=True).\n"
          ]
        }
      ]
    },
    {
      "cell_type": "markdown",
      "source": [
        "# Image Folder로 data load"
      ],
      "metadata": {
        "id": "tI6V_Go8Zo0K"
      }
    },
    {
      "cell_type": "code",
      "source": [
        "data_dir = '/content/drive/Shareddrives/2022 데이터 청년 캠퍼스/bug/'\n",
        "\n",
        "train_data_dir = '/content/drive/Shareddrives/2022 데이터 청년 캠퍼스/bug/train'\n",
        "test_data_dir = '/content/drive/Shareddrives/2022 데이터 청년 캠퍼스/bug/test'"
      ],
      "metadata": {
        "id": "f32EepY6ZehV"
      },
      "execution_count": null,
      "outputs": []
    },
    {
      "cell_type": "markdown",
      "source": [
        "Resize(normalization) the data"
      ],
      "metadata": {
        "id": "QIMbmm2siSXi"
      }
    },
    {
      "cell_type": "code",
      "source": [
        "# Data augmentation and normalization for training\n",
        "# Just normalization for validation\n",
        "data_transforms = {\n",
        "    'train': transforms.Compose([\n",
        "        transforms.RandomResizedCrop(224),\n",
        "        transforms.Resize(28),\n",
        "        transforms.RandomHorizontalFlip(),\n",
        "        transforms.ToTensor(),\n",
        "        transforms.Normalize([0.485, 0.456, 0.406], [0.229, 0.224, 0.225])\n",
        "    ]),\n",
        "    'test': transforms.Compose([\n",
        "        transforms.Resize(28),\n",
        "        transforms.CenterCrop(28),\n",
        "        transforms.ToTensor(),\n",
        "        transforms.Normalize([0.485, 0.456, 0.406], [0.229, 0.224, 0.225])\n",
        "    ]),\n",
        "}\n",
        "\n",
        "image_datasets = {x: datasets.ImageFolder(os.path.join(data_dir, x),\n",
        "                                          data_transforms[x])\n",
        "                  for x in ['train', 'test']}\n",
        "dataloaders = {x: torch.utils.data.DataLoader(image_datasets[x], batch_size=4,\n",
        "                                             shuffle=True, num_workers=4, drop_last=True)\n",
        "              for x in ['train', 'test']}\n",
        "dataset_sizes = {x: len(image_datasets[x]) for x in ['train', 'test']}\n",
        "class_names = image_datasets['train'].classes\n"
      ],
      "metadata": {
        "colab": {
          "base_uri": "https://localhost:8080/"
        },
        "id": "RafufB_biRqf",
        "outputId": "741e7010-b11a-4c4a-f99b-ed0d659aaabf"
      },
      "execution_count": null,
      "outputs": [
        {
          "output_type": "stream",
          "name": "stderr",
          "text": [
            "/usr/local/lib/python3.7/dist-packages/torch/utils/data/dataloader.py:566: UserWarning: This DataLoader will create 4 worker processes in total. Our suggested max number of worker in current system is 2, which is smaller than what this DataLoader is going to create. Please be aware that excessive worker creation might get DataLoader running slow or even freeze, lower the worker number to avoid potential slowness/freeze if necessary.\n",
            "  cpuset_checked))\n"
          ]
        }
      ]
    },
    {
      "cell_type": "code",
      "source": [
        "print(\"class_names : \", class_names)\n",
        "print(\"\\n\")\n",
        "print(\"datasets_sizes : \", dataset_sizes)\n",
        "print(\"\\n\")\n",
        "print(\"image_datasets : \", image_datasets)"
      ],
      "metadata": {
        "colab": {
          "base_uri": "https://localhost:8080/"
        },
        "id": "Kxtd-zDDpl_i",
        "outputId": "b988f978-2572-49f9-edda-411730d0598b"
      },
      "execution_count": null,
      "outputs": [
        {
          "output_type": "stream",
          "name": "stdout",
          "text": [
            "class_names :  ['1.urticae', '10.intonsa', '11.despecta', '12.vaporariorum', '13.kanzawai', '15.antennata', '16.brassicae', '17.baccarum', '18.solani', '19.halys', '2.litura', '20.spiraecola', '21.segetum', '22.speculum', '23.latus', '24.striolata', '25.tabaci', '26.orana', '27.euphorbiae', '28.palmi', '29.agrestis', '3.exigua', '30.furnacalis', '31.cunea', '32. clavatus', '32.pruinosa', '34. assulta', '35. erysimi', '36.stali', '37.brassicae', '38. indica', '39.xylostella', '4.gossypii', '40.comstocki', '41.sordidus', '42.tabaci', '43.padi', '44.pentagona', '45.separata', '5.trifolii', '6.persicae', '7.lata', '8.armigera', '9.occidentalis']\n",
            "\n",
            "\n",
            "datasets_sizes :  {'train': 433, 'test': 217}\n",
            "\n",
            "\n",
            "image_datasets :  {'train': Dataset ImageFolder\n",
            "    Number of datapoints: 433\n",
            "    Root location: /content/drive/Shareddrives/2022 데이터 청년 캠퍼스/bug/train\n",
            "    StandardTransform\n",
            "Transform: Compose(\n",
            "               RandomResizedCrop(size=(224, 224), scale=(0.08, 1.0), ratio=(0.75, 1.3333), interpolation=bilinear)\n",
            "               Resize(size=28, interpolation=bilinear, max_size=None, antialias=None)\n",
            "               RandomHorizontalFlip(p=0.5)\n",
            "               ToTensor()\n",
            "               Normalize(mean=[0.485, 0.456, 0.406], std=[0.229, 0.224, 0.225])\n",
            "           ), 'test': Dataset ImageFolder\n",
            "    Number of datapoints: 217\n",
            "    Root location: /content/drive/Shareddrives/2022 데이터 청년 캠퍼스/bug/test\n",
            "    StandardTransform\n",
            "Transform: Compose(\n",
            "               Resize(size=28, interpolation=bilinear, max_size=None, antialias=None)\n",
            "               CenterCrop(size=(28, 28))\n",
            "               ToTensor()\n",
            "               Normalize(mean=[0.485, 0.456, 0.406], std=[0.229, 0.224, 0.225])\n",
            "           )}\n"
          ]
        }
      ]
    },
    {
      "cell_type": "code",
      "source": [
        "def imshow(inp, title=None):\n",
        "    \"\"\"Imshow for Tensor.\"\"\"\n",
        "    inp = inp.numpy().transpose((1, 2, 0))\n",
        "    mean = np.array([0.485, 0.456, 0.406])\n",
        "    std = np.array([0.229, 0.224, 0.225])\n",
        "    inp = std * inp + mean\n",
        "    inp = np.clip(inp, 0, 1)\n",
        "    plt.imshow(inp)\n",
        "    if title is not None:\n",
        "        plt.title(title)\n",
        "    plt.pause(0.001)  # pause a bit so that plots are updated\n",
        "\n",
        "\n",
        "# Get a batch of training data\n",
        "inputs, classes = next(iter(dataloaders['train']))\n",
        "\n",
        "# Make a grid from batch\n",
        "out = torchvision.utils.make_grid(inputs)\n",
        "\n",
        "imshow(out, title=[class_names[x] for x in classes])"
      ],
      "metadata": {
        "colab": {
          "base_uri": "https://localhost:8080/",
          "height": 208
        },
        "id": "MNXUQlI-ppVq",
        "outputId": "d0eea6ca-1f96-41bb-d8ff-ce17421b0f9b"
      },
      "execution_count": null,
      "outputs": [
        {
          "output_type": "stream",
          "name": "stderr",
          "text": [
            "/usr/local/lib/python3.7/dist-packages/torch/utils/data/dataloader.py:566: UserWarning: This DataLoader will create 4 worker processes in total. Our suggested max number of worker in current system is 2, which is smaller than what this DataLoader is going to create. Please be aware that excessive worker creation might get DataLoader running slow or even freeze, lower the worker number to avoid potential slowness/freeze if necessary.\n",
            "  cpuset_checked))\n"
          ]
        },
        {
          "output_type": "display_data",
          "data": {
            "text/plain": [
              "<Figure size 432x288 with 1 Axes>"
            ],
            "image/png": "[encoded data removed]"
          },
          "metadata": {
            "needs_background": "light"
          }
        }
      ]
    },
    {
      "cell_type": "code",
      "source": [
        "def train_model(model, criterion, optimizer, scheduler, num_epochs=25):\n",
        "    since = time.time()\n",
        "\n",
        "    best_model_wts = copy.deepcopy(model.state_dict())\n",
        "    best_acc = 0.0\n",
        "\n",
        "    for epoch in range(num_epochs):\n",
        "        print(f'Epoch {epoch}/{num_epochs - 1}')\n",
        "        print('-' * 10)\n",
        "\n",
        "        # Each epoch has a training and validation phase\n",
        "        for phase in ['train', 'test']:\n",
        "            if phase == 'train':\n",
        "                model.train()  # Set model to training mode\n",
        "            else:\n",
        "                model.eval()   # Set model to evaluate mode\n",
        "\n",
        "            running_loss = 0.0\n",
        "            running_corrects = 0\n",
        "\n",
        "            # Iterate over data.\n",
        "            for inputs, labels in dataloaders[phase]:\n",
        "                inputs = inputs.to(device)\n",
        "                labels = labels.to(device)\n",
        "\n",
        "                # zero the parameter gradients\n",
        "                optimizer.zero_grad()\n",
        "\n",
        "                # forward\n",
        "                # track history if only in train\n",
        "                with torch.set_grad_enabled(phase == 'train'):\n",
        "                    outputs = model(inputs)\n",
        "                    _, preds = torch.max(outputs, 1)\n",
        "                    loss = criterion(outputs, labels)\n",
        "\n",
        "                    # backward + optimize only if in training phase\n",
        "                    if phase == 'train':\n",
        "                        loss.backward()\n",
        "                        optimizer.step()\n",
        "\n",
        "                # statistics\n",
        "                running_loss += loss.item() * inputs.size(0)\n",
        "                running_corrects += torch.sum(preds == labels.data)\n",
        "            if phase == 'train':\n",
        "                scheduler.step()\n",
        "\n",
        "            epoch_loss = running_loss / dataset_sizes[phase]\n",
        "            epoch_acc = running_corrects.double() / dataset_sizes[phase]\n",
        "\n",
        "            print(f'{phase} Loss: {epoch_loss:.4f} Acc: {epoch_acc:.4f}')\n",
        "\n",
        "            # deep copy the model\n",
        "            if phase == 'test' and epoch_acc > best_acc:\n",
        "                best_acc = epoch_acc\n",
        "                best_model_wts = copy.deepcopy(model.state_dict())\n",
        "\n",
        "        print()\n",
        "\n",
        "    time_elapsed = time.time() - since\n",
        "    print(f'Training complete in {time_elapsed // 60:.0f}m {time_elapsed % 60:.0f}s')\n",
        "    print(f'Best val Acc: {best_acc:4f}')\n",
        "\n",
        "    # load best model weights\n",
        "    model.load_state_dict(best_model_wts)\n",
        "    return model"
      ],
      "metadata": {
        "id": "F23XPwZwt-ag"
      },
      "execution_count": null,
      "outputs": []
    },
    {
      "cell_type": "code",
      "source": [
        "def visualize_model(model, num_images=6):\n",
        "    was_training = model.training\n",
        "    model.eval()\n",
        "    images_so_far = 0\n",
        "    fig = plt.figure()\n",
        "\n",
        "    with torch.no_grad():\n",
        "        for i, (inputs, labels) in enumerate(dataloaders['test']):\n",
        "            inputs = inputs.to(device)\n",
        "            labels = labels.to(device)\n",
        "\n",
        "            outputs = model(inputs)\n",
        "            _, preds = torch.max(outputs, 1)\n",
        "\n",
        "            for j in range(inputs.size()[0]):\n",
        "                images_so_far += 1\n",
        "                ax = plt.subplot(num_images//2, 2, images_so_far)\n",
        "                ax.axis('off')\n",
        "                ax.set_title(f'predicted: {class_names[preds[j]]}')\n",
        "                imshow(inputs.cpu().data[j])\n",
        "\n",
        "                if images_so_far == num_images:\n",
        "                    model.train(mode=was_training)\n",
        "                    return\n",
        "        model.train(mode=was_training)"
      ],
      "metadata": {
        "id": "10I8rxMKt_2p"
      },
      "execution_count": null,
      "outputs": []
    },
    {
      "cell_type": "markdown",
      "source": [
        "# Domain Adaptation Model\n",
        "\n",
        "\n",
        "https://www.youtube.com/watch?v=U4ab267wl6U"
      ],
      "metadata": {
        "id": "GZ29awUc5-qd"
      }
    },
    {
      "cell_type": "code",
      "source": [
        "from torch.autograd import Function"
      ],
      "metadata": {
        "id": "XdLFCa685-aj"
      },
      "execution_count": null,
      "outputs": []
    },
    {
      "cell_type": "code",
      "source": [
        "class GradientReversalFn(Function):\n",
        "  @staticmethod\n",
        "  def forward(ctx, x, alpha):\n",
        "    #store context for backprop\n",
        "    ctx.alpha=alpha\n",
        "    return x\n",
        "\n",
        "  @staticmethod\n",
        "  def backward(ctx, grad_output):\n",
        "\n",
        "    output= - ctx.alpha * grad_output\n",
        "\n",
        "    return output, None\n"
      ],
      "metadata": {
        "id": "wX0FIWak6ER4"
      },
      "execution_count": null,
      "outputs": []
    },
    {
      "cell_type": "code",
      "source": [
        "w=torch.tensor([1,2,3,4.], requires_grad=True)\n",
        "t=2*w+1\n",
        "t=GradientReversalFn.apply(t, 0.5)\n",
        "t"
      ],
      "metadata": {
        "colab": {
          "base_uri": "https://localhost:8080/"
        },
        "id": "Wrwx8YzN6lUX",
        "outputId": "2bc660f7-5c22-4a45-a788-0ab9dbb80929"
      },
      "execution_count": null,
      "outputs": [
        {
          "output_type": "execute_result",
          "data": {
            "text/plain": [
              "tensor([3., 5., 7., 9.], grad_fn=<GradientReversalFnBackward>)"
            ]
          },
          "metadata": {},
          "execution_count": 12
        }
      ]
    },
    {
      "cell_type": "code",
      "source": [
        "loss=torch.sum(t)\n",
        "loss.backward(retain_graph=True)\n",
        "\n",
        "w.grad"
      ],
      "metadata": {
        "colab": {
          "base_uri": "https://localhost:8080/"
        },
        "id": "w7A7yfDn6lPK",
        "outputId": "1e9dcfd7-ffef-46bb-ada8-f7c99f918f75"
      },
      "execution_count": null,
      "outputs": [
        {
          "output_type": "execute_result",
          "data": {
            "text/plain": [
              "tensor([-1., -1., -1., -1.])"
            ]
          },
          "metadata": {},
          "execution_count": 13
        }
      ]
    },
    {
      "cell_type": "code",
      "source": [
        "!pip install torchviz"
      ],
      "metadata": {
        "colab": {
          "base_uri": "https://localhost:8080/"
        },
        "id": "5qF3ISLj7bzK",
        "outputId": "270b60bf-5916-43ad-f4bc-0f9f275f827a"
      },
      "execution_count": null,
      "outputs": [
        {
          "output_type": "stream",
          "name": "stdout",
          "text": [
            "Looking in indexes: https://pypi.org/simple, https://us-python.pkg.dev/colab-wheels/public/simple/\n",
            "Requirement already satisfied: torchviz in /usr/local/lib/python3.7/dist-packages (0.0.2)\n",
            "Requirement already satisfied: torch in /usr/local/lib/python3.7/dist-packages (from torchviz) (1.12.1+cu113)\n",
            "Requirement already satisfied: graphviz in /usr/local/lib/python3.7/dist-packages (from torchviz) (0.10.1)\n",
            "Requirement already satisfied: typing-extensions in /usr/local/lib/python3.7/dist-packages (from torch->torchviz) (4.1.1)\n"
          ]
        }
      ]
    },
    {
      "cell_type": "code",
      "source": [
        "import torchviz\n",
        "from torchviz import make_dot  #pytorch 모델 시각화 방법\n",
        "\n",
        "torchviz.make_dot(loss, params=dict(w=w))"
      ],
      "metadata": {
        "colab": {
          "base_uri": "https://localhost:8080/",
          "height": 527
        },
        "id": "vEamsFYz6lEm",
        "outputId": "9f262fdb-7ddd-4afa-d9fc-73a65f99880e"
      },
      "execution_count": null,
      "outputs": [
        {
          "output_type": "execute_result",
          "data": {
            "text/plain": [
              "<graphviz.dot.Digraph at 0x7f30f5b62c90>"
            ],
            "image/svg+xml": "<?xml version=\"1.0\" encoding=\"UTF-8\" standalone=\"no\"?>\n<!DOCTYPE svg PUBLIC \"-//W3C//DTD SVG 1.1//EN\"\n \"http://www.w3.org/Graphics/SVG/1.1/DTD/svg11.dtd\">\n<!-- Generated by graphviz version 2.40.1 (20161225.0304)\n -->\n<!-- Title: %3 Pages: 1 -->\n<svg width=\"181pt\" height=\"380pt\"\n viewBox=\"0.00 0.00 181.00 380.00\" xmlns=\"http://www.w3.org/2000/svg\" xmlns:xlink=\"http://www.w3.org/1999/xlink\">\n<g id=\"graph0\" class=\"graph\" transform=\"scale(1 1) rotate(0) translate(4 376)\">\n<title>%3</title>\n<polygon fill=\"#ffffff\" stroke=\"transparent\" points=\"-4,4 -4,-376 177,-376 177,4 -4,4\"/>\n<!-- 139848257403216 -->\n<g id=\"node1\" class=\"node\">\n<title>139848257403216</title>\n<polygon fill=\"#caff70\" stroke=\"#000000\" points=\"113.5,-31 59.5,-31 59.5,0 113.5,0 113.5,-31\"/>\n<text text-anchor=\"middle\" x=\"86.5\" y=\"-7\" font-family=\"monospace\" font-size=\"10.00\" fill=\"#000000\"> ()</text>\n</g>\n<!-- 139848257514768 -->\n<g id=\"node2\" class=\"node\">\n<title>139848257514768</title>\n<polygon fill=\"#d3d3d3\" stroke=\"#000000\" points=\"131,-86 42,-86 42,-67 131,-67 131,-86\"/>\n<text text-anchor=\"middle\" x=\"86.5\" y=\"-74\" font-family=\"monospace\" font-size=\"10.00\" fill=\"#000000\">SumBackward0</text>\n</g>\n<!-- 139848257514768&#45;&gt;139848257403216 -->\n<g id=\"edge6\" class=\"edge\">\n<title>139848257514768&#45;&gt;139848257403216</title>\n<path fill=\"none\" stroke=\"#000000\" d=\"M86.5,-66.9688C86.5,-60.1289 86.5,-50.5621 86.5,-41.5298\"/>\n<polygon fill=\"#000000\" stroke=\"#000000\" points=\"90.0001,-41.3678 86.5,-31.3678 83.0001,-41.3678 90.0001,-41.3678\"/>\n</g>\n<!-- 139848289016144 -->\n<g id=\"node3\" class=\"node\">\n<title>139848289016144</title>\n<polygon fill=\"#d3d3d3\" stroke=\"#000000\" points=\"173,-141 0,-141 0,-122 173,-122 173,-141\"/>\n<text text-anchor=\"middle\" x=\"86.5\" y=\"-129\" font-family=\"monospace\" font-size=\"10.00\" fill=\"#000000\">GradientReversalFnBackward</text>\n</g>\n<!-- 139848289016144&#45;&gt;139848257514768 -->\n<g id=\"edge1\" class=\"edge\">\n<title>139848289016144&#45;&gt;139848257514768</title>\n<path fill=\"none\" stroke=\"#000000\" d=\"M86.5,-121.9197C86.5,-114.9083 86.5,-105.1442 86.5,-96.4652\"/>\n<polygon fill=\"#000000\" stroke=\"#000000\" points=\"90.0001,-96.3408 86.5,-86.3408 83.0001,-96.3409 90.0001,-96.3408\"/>\n</g>\n<!-- 139848257514896 -->\n<g id=\"node4\" class=\"node\">\n<title>139848257514896</title>\n<polygon fill=\"#d3d3d3\" stroke=\"#000000\" points=\"131,-196 42,-196 42,-177 131,-177 131,-196\"/>\n<text text-anchor=\"middle\" x=\"86.5\" y=\"-184\" font-family=\"monospace\" font-size=\"10.00\" fill=\"#000000\">AddBackward0</text>\n</g>\n<!-- 139848257514896&#45;&gt;139848289016144 -->\n<g id=\"edge2\" class=\"edge\">\n<title>139848257514896&#45;&gt;139848289016144</title>\n<path fill=\"none\" stroke=\"#000000\" d=\"M86.5,-176.9197C86.5,-169.9083 86.5,-160.1442 86.5,-151.4652\"/>\n<polygon fill=\"#000000\" stroke=\"#000000\" points=\"90.0001,-151.3408 86.5,-141.3408 83.0001,-151.3409 90.0001,-151.3408\"/>\n</g>\n<!-- 139848257514512 -->\n<g id=\"node5\" class=\"node\">\n<title>139848257514512</title>\n<polygon fill=\"#d3d3d3\" stroke=\"#000000\" points=\"131,-251 42,-251 42,-232 131,-232 131,-251\"/>\n<text text-anchor=\"middle\" x=\"86.5\" y=\"-239\" font-family=\"monospace\" font-size=\"10.00\" fill=\"#000000\">MulBackward0</text>\n</g>\n<!-- 139848257514512&#45;&gt;139848257514896 -->\n<g id=\"edge3\" class=\"edge\">\n<title>139848257514512&#45;&gt;139848257514896</title>\n<path fill=\"none\" stroke=\"#000000\" d=\"M86.5,-231.9197C86.5,-224.9083 86.5,-215.1442 86.5,-206.4652\"/>\n<polygon fill=\"#000000\" stroke=\"#000000\" points=\"90.0001,-206.3408 86.5,-196.3408 83.0001,-206.3409 90.0001,-206.3408\"/>\n</g>\n<!-- 139848257515088 -->\n<g id=\"node6\" class=\"node\">\n<title>139848257515088</title>\n<polygon fill=\"#d3d3d3\" stroke=\"#000000\" points=\"137,-306 36,-306 36,-287 137,-287 137,-306\"/>\n<text text-anchor=\"middle\" x=\"86.5\" y=\"-294\" font-family=\"monospace\" font-size=\"10.00\" fill=\"#000000\">AccumulateGrad</text>\n</g>\n<!-- 139848257515088&#45;&gt;139848257514512 -->\n<g id=\"edge4\" class=\"edge\">\n<title>139848257515088&#45;&gt;139848257514512</title>\n<path fill=\"none\" stroke=\"#000000\" d=\"M86.5,-286.9197C86.5,-279.9083 86.5,-270.1442 86.5,-261.4652\"/>\n<polygon fill=\"#000000\" stroke=\"#000000\" points=\"90.0001,-261.3408 86.5,-251.3408 83.0001,-261.3409 90.0001,-261.3408\"/>\n</g>\n<!-- 139848257402832 -->\n<g id=\"node7\" class=\"node\">\n<title>139848257402832</title>\n<polygon fill=\"#add8e6\" stroke=\"#000000\" points=\"113.5,-372 59.5,-372 59.5,-342 113.5,-342 113.5,-372\"/>\n<text text-anchor=\"middle\" x=\"86.5\" y=\"-360\" font-family=\"monospace\" font-size=\"10.00\" fill=\"#000000\">w</text>\n<text text-anchor=\"middle\" x=\"86.5\" y=\"-349\" font-family=\"monospace\" font-size=\"10.00\" fill=\"#000000\"> (4)</text>\n</g>\n<!-- 139848257402832&#45;&gt;139848257515088 -->\n<g id=\"edge5\" class=\"edge\">\n<title>139848257402832&#45;&gt;139848257515088</title>\n<path fill=\"none\" stroke=\"#000000\" d=\"M86.5,-341.7333C86.5,-334.0322 86.5,-324.5977 86.5,-316.3414\"/>\n<polygon fill=\"#000000\" stroke=\"#000000\" points=\"90.0001,-316.0864 86.5,-306.0864 83.0001,-316.0864 90.0001,-316.0864\"/>\n</g>\n</g>\n</svg>\n"
          },
          "metadata": {},
          "execution_count": 15
        }
      ]
    },
    {
      "cell_type": "code",
      "source": [
        "class DACNN(nn.Module):\n",
        "  def __init__(self):\n",
        "    super().__init__()\n",
        "\n",
        "    self.feature_extractor = nn.Sequential(\n",
        "        nn.Conv2d(3,64,kernel_size=5,padding=1,stride=1),    #(28+2p-f)/s+1=26\n",
        "        nn.BatchNorm2d(64), nn.MaxPool2d(2), \n",
        "        nn.ReLU(True),  #26/2=13\n",
        "        nn.Conv2d(64,50,kernel_size=5,padding=1,stride=1),   #(12+2p-f)/s+1=10\n",
        "        nn.BatchNorm2d(50), nn.MaxPool2d(2), nn.ReLU(True),  #10/2=5\n",
        "        nn.Dropout2d(),\n",
        "    )\n",
        "    self.num_cnn_features=50*5*5\n",
        "\n",
        "    self.class_classifier = nn.Sequential(\n",
        "        nn.Linear(self.num_cnn_features,100),nn.BatchNorm1d(100), nn.Dropout2d(), \n",
        "        nn.ReLU(True),\n",
        "        nn.Linear(100,100),nn.BatchNorm1d(100), \n",
        "        nn.ReLU(True),\n",
        "        nn.Linear(100,10),\n",
        "        nn.LogSoftmax(dim=1),\n",
        "    )\n",
        "\n",
        "    self.domain_classifier=nn.Sequential(\n",
        "        nn.Linear(self.num_cnn_features, 100), nn.BatchNorm1d(100),\n",
        "        nn.ReLU(True),\n",
        "        nn.Linear(100,2), \n",
        "        nn.LogSoftmax(dim=1),\n",
        "    )\n",
        "  \n",
        "  def forward(self, x, grl_lamda=1.0):    \n",
        "    #handle single channel input by expanding the singleton dimention\n",
        "    x = x.expand(x.data.shape[0], 3, image_size, image_size)\n",
        "\n",
        "    features = self.feature_extractor(x)\n",
        "    features = features.view(-1, self.num_cnn_features)\n",
        "    features_grl = GradientReversalFn.apply(features,grl_lamda)\n",
        "    class_pred = self.class_classifier(features)                # classify on regular features\n",
        "    domain_pred=self.domain_classifier(features_grl)            # classify on  features after GRL\n",
        "    \n",
        "    return class_pred, domain_pred"
      ],
      "metadata": {
        "id": "5gxyoREp7qaG"
      },
      "execution_count": null,
      "outputs": []
    },
    {
      "cell_type": "code",
      "source": [
        "model=DACNN()\n",
        "\n",
        "x0_s,y0_s = next(iter(dataloaders['train']))\n",
        "x0_t,y0_t = next(iter(dataloaders['test']))\n",
        "\n",
        "print('source domain input: ', x0_s.shape, y0_s.shape)\n",
        "print('target domain input: ', x0_t.shape, y0_t.shape)"
      ],
      "metadata": {
        "colab": {
          "base_uri": "https://localhost:8080/"
        },
        "id": "lxX-sKSv74sU",
        "outputId": "f2e742ad-09f4-47c1-ea1f-f5c5f4ad9f4d"
      },
      "execution_count": null,
      "outputs": [
        {
          "output_type": "stream",
          "name": "stderr",
          "text": [
            "/usr/local/lib/python3.7/dist-packages/torch/utils/data/dataloader.py:566: UserWarning: This DataLoader will create 4 worker processes in total. Our suggested max number of worker in current system is 2, which is smaller than what this DataLoader is going to create. Please be aware that excessive worker creation might get DataLoader running slow or even freeze, lower the worker number to avoid potential slowness/freeze if necessary.\n",
            "  cpuset_checked))\n"
          ]
        },
        {
          "output_type": "stream",
          "name": "stdout",
          "text": [
            "source domain input:  torch.Size([4, 3, 28, 28]) torch.Size([4])\n",
            "target domain input:  torch.Size([4, 3, 28, 28]) torch.Size([4])\n"
          ]
        }
      ]
    },
    {
      "cell_type": "code",
      "source": [
        "# Test forward pass: get class prediction and domain prediction\n",
        "image_size=28\n",
        "\n",
        "yhat0_s_c, yhat0_s_d=model(x0_s)\n",
        "yhat0_t_x, yhat0_t_d=model(x0_t)\n",
        "\n",
        "print('yhat0_s_c: \\n ', yhat0_s_c, yhat0_s_c.shape)\n",
        "print('yhat0_t_d: \\n ', yhat0_t_d, yhat0_t_d.shape)"
      ],
      "metadata": {
        "id": "f_bo_s3q9FOl",
        "colab": {
          "base_uri": "https://localhost:8080/"
        },
        "outputId": "8701e431-0876-4301-c621-f287c8caa835"
      },
      "execution_count": null,
      "outputs": [
        {
          "output_type": "stream",
          "name": "stdout",
          "text": [
            "yhat0_s_c: \n",
            "  tensor([[-1.6803, -2.4262, -2.5623, -2.0705, -2.6922, -2.4775, -2.9657, -2.4124,\n",
            "         -2.2551, -2.0844],\n",
            "        [-3.5992, -2.4334, -2.4860, -2.3646, -1.5668, -2.7775, -2.3186, -2.7383,\n",
            "         -1.6601, -2.4820],\n",
            "        [-2.4120, -2.0034, -2.4964, -2.1791, -2.6809, -2.3067, -1.7196, -2.7941,\n",
            "         -2.6609, -2.2859],\n",
            "        [-2.7566, -2.6862, -1.9852, -2.2267, -2.2869, -1.4500, -2.8431, -2.7967,\n",
            "         -3.0400, -2.1214]], grad_fn=<LogSoftmaxBackward0>) torch.Size([4, 10])\n",
            "yhat0_t_d: \n",
            "  tensor([[-0.6790, -0.7075],\n",
            "        [-0.5428, -0.8701],\n",
            "        [-0.5625, -0.8435],\n",
            "        [-0.7523, -0.6373]], grad_fn=<LogSoftmaxBackward0>) torch.Size([4, 2])\n"
          ]
        },
        {
          "output_type": "stream",
          "name": "stderr",
          "text": [
            "/usr/local/lib/python3.7/dist-packages/torch/nn/functional.py:1331: UserWarning: dropout2d: Received a 2-D input to dropout2d, which is deprecated and will result in an error in a future release. To retain the behavior and silence this warning, please use dropout instead. Note that dropout2d exists to provide channel-wise dropout on inputs with 2 spatial dimensions, a channel dimension, and an optional batch dimension (i.e. 3D or 4D inputs).\n",
            "  warnings.warn(warn_msg)\n"
          ]
        }
      ]
    },
    {
      "cell_type": "code",
      "source": [
        "model(x0_s)\n",
        "model(x0_t)\n",
        "\n",
        "#model_ft = train_model(model, criterion, optimizer_ft, exp_lr_scheduler, num_epochs=25)"
      ],
      "metadata": {
        "colab": {
          "base_uri": "https://localhost:8080/"
        },
        "id": "8UzM05AfVhOY",
        "outputId": "546c5be1-9cf5-4f68-daac-072a182c7c57"
      },
      "execution_count": null,
      "outputs": [
        {
          "output_type": "stream",
          "name": "stderr",
          "text": [
            "/usr/local/lib/python3.7/dist-packages/torch/nn/functional.py:1331: UserWarning: dropout2d: Received a 2-D input to dropout2d, which is deprecated and will result in an error in a future release. To retain the behavior and silence this warning, please use dropout instead. Note that dropout2d exists to provide channel-wise dropout on inputs with 2 spatial dimensions, a channel dimension, and an optional batch dimension (i.e. 3D or 4D inputs).\n",
            "  warnings.warn(warn_msg)\n"
          ]
        },
        {
          "output_type": "execute_result",
          "data": {
            "text/plain": [
              "(tensor([[-2.9116, -3.1509, -2.6150, -1.9282, -2.1220, -1.3509, -2.7064, -2.9286,\n",
              "          -2.2416, -2.5397],\n",
              "         [-2.2451, -2.0661, -2.0235, -2.3555, -2.0795, -2.8976, -2.3684, -2.4557,\n",
              "          -2.7788, -2.1315],\n",
              "         [-2.2615, -2.1384, -2.2494, -2.0849, -2.8052, -2.4376, -2.6903, -2.8941,\n",
              "          -2.2312, -1.7737],\n",
              "         [-2.8318, -2.1862, -2.4193, -2.2644, -2.1315, -2.2389, -1.9939, -2.2660,\n",
              "          -2.3489, -2.5864]], grad_fn=<LogSoftmaxBackward0>),\n",
              " tensor([[-0.5686, -0.8355],\n",
              "         [-0.8163, -0.5835],\n",
              "         [-0.4365, -1.0392],\n",
              "         [-0.7664, -0.6249]], grad_fn=<LogSoftmaxBackward0>))"
            ]
          },
          "metadata": {},
          "execution_count": 20
        }
      ]
    },
    {
      "cell_type": "markdown",
      "source": [
        "# Training"
      ],
      "metadata": {
        "id": "wyvcPtsUNeAG"
      }
    },
    {
      "cell_type": "code",
      "source": [
        "lr = 1e-3\n",
        "n_epochs=1"
      ],
      "metadata": {
        "id": "99lhSV6ENXr9"
      },
      "execution_count": null,
      "outputs": []
    },
    {
      "cell_type": "code",
      "source": [
        "#setup\n",
        "\n",
        "model=DACNN()\n",
        "optimizer=optim.Adam(model.parameters(), lr)"
      ],
      "metadata": {
        "id": "6ZCe_BDwNwCz"
      },
      "execution_count": null,
      "outputs": []
    },
    {
      "cell_type": "code",
      "source": [
        "# two loss functions \n",
        "loss_fn_class=torch.nn.NLLLoss()\n",
        "loss_fn_domain=torch.nn.NLLLoss()"
      ],
      "metadata": {
        "id": "LVJCBim-OJF1"
      },
      "execution_count": null,
      "outputs": []
    },
    {
      "cell_type": "code",
      "source": [
        "batch_size=256"
      ],
      "metadata": {
        "id": "zyMtYG5HOXHO"
      },
      "execution_count": null,
      "outputs": []
    },
    {
      "cell_type": "code",
      "source": [
        "max_batches = min(len(dataloaders['train']), len(dataloaders['test']))\n",
        "max_batches"
      ],
      "metadata": {
        "colab": {
          "base_uri": "https://localhost:8080/"
        },
        "id": "5ezRwiB2OehD",
        "outputId": "379a65d9-59aa-4ed3-bebe-5c38e66c81af"
      },
      "execution_count": null,
      "outputs": [
        {
          "output_type": "execute_result",
          "data": {
            "text/plain": [
              "54"
            ]
          },
          "metadata": {},
          "execution_count": 25
        }
      ]
    },
    {
      "cell_type": "code",
      "source": [
        "for epoch_idx in range(n_epochs):\n",
        "  #print(f'Epoch {epoch_idx+1:04d}/{n_epochs:04d}', end='\\n========================\\n')\n",
        "  print(f'Epoch {epoch_idx}/{n_epochs - 1}', end='\\n========================\\n')\n",
        "\n",
        "  dl_source_iter=iter(dataloaders['train'])\n",
        "  dl_target_iter=iter(dataloaders['test'])\n",
        "\n",
        "  for batch_idx in range(max_batches):\n",
        "    optimizer.zero_grad()\n",
        "\n",
        "    p=float(batch_idx + epoch_idx* max_batches)/(n_epochs * max_batches)\n",
        "    grl_lambda=2./(1.+np.exp(-10*p))-1\n",
        "\n",
        "    # Train: source  domain\n",
        "    x_s,y_s=next(dl_source_iter)\n",
        "    y_s_domain=torch.zeros(batch_size, dtype=torch.long)\n",
        "\n",
        "    class_pred, domain_pred=model(x_s, grl_lambda)\n",
        "    loss_s_label=loss_fn_class(class_pred, y_s)\n",
        "    loss_s_domain=loss_fn_class(domain_pred, y_s_domain)\n",
        "\n",
        "    # Train: target domain\n",
        "    x_t, _ =next(dl_target_iter)\n",
        "    y_t_domain=torch.ones(batch_size, dtype=torch.long)\n",
        "\n",
        "    _, domain_pred=model(x_t, grl_lambda)\n",
        "    loss_t_domain=loss_fn_domain(domain_pred, y_t_domain)\n",
        "\n",
        "    #최적화\n",
        "    loss=loss_t_domain+loss_s_domain+loss_s_label\n",
        "    loss.backward()\n",
        "    optimizer.step()\n",
        "\n",
        "    print(f'[{batch_idx+1}/{max_batches}]'\n",
        "          f'class loss: {loss_s_label.item(): .4f}'\n",
        "          f's_domain_loss: {loss_s_domain.item(): .4f}'\n",
        "          f't_domain loss: {loss_s_domain.item(): .4f}',\n",
        "          f'grl_lambda: {grl_lambda: .3f}'\n",
        "          )\n"
      ],
      "metadata": {
        "colab": {
          "base_uri": "https://localhost:8080/",
          "height": 525
        },
        "id": "Napj8oQx3v3X",
        "outputId": "dc3a45b0-b721-4490-fc7c-a23a3ea3784b"
      },
      "execution_count": null,
      "outputs": [
        {
          "output_type": "stream",
          "name": "stdout",
          "text": [
            "Epoch 0/0\n",
            "========================\n"
          ]
        },
        {
          "output_type": "stream",
          "name": "stderr",
          "text": [
            "/usr/local/lib/python3.7/dist-packages/torch/utils/data/dataloader.py:566: UserWarning: This DataLoader will create 4 worker processes in total. Our suggested max number of worker in current system is 2, which is smaller than what this DataLoader is going to create. Please be aware that excessive worker creation might get DataLoader running slow or even freeze, lower the worker number to avoid potential slowness/freeze if necessary.\n",
            "  cpuset_checked))\n",
            "/usr/local/lib/python3.7/dist-packages/torch/nn/functional.py:1331: UserWarning: dropout2d: Received a 2-D input to dropout2d, which is deprecated and will result in an error in a future release. To retain the behavior and silence this warning, please use dropout instead. Note that dropout2d exists to provide channel-wise dropout on inputs with 2 spatial dimensions, a channel dimension, and an optional batch dimension (i.e. 3D or 4D inputs).\n",
            "  warnings.warn(warn_msg)\n"
          ]
        },
        {
          "output_type": "error",
          "ename": "IndexError",
          "evalue": "ignored",
          "traceback": [
            "\u001b[0;31m---------------------------------------------------------------------------\u001b[0m",
            "\u001b[0;31mIndexError\u001b[0m                                Traceback (most recent call last)",
            "\u001b[0;32m<ipython-input-60-131fc264a851>\u001b[0m in \u001b[0;36m<module>\u001b[0;34m()\u001b[0m\n\u001b[1;32m     17\u001b[0m \u001b[0;34m\u001b[0m\u001b[0m\n\u001b[1;32m     18\u001b[0m     \u001b[0mclass_pred\u001b[0m\u001b[0;34m,\u001b[0m \u001b[0mdomain_pred\u001b[0m\u001b[0;34m=\u001b[0m\u001b[0mmodel\u001b[0m\u001b[0;34m(\u001b[0m\u001b[0mx_s\u001b[0m\u001b[0;34m,\u001b[0m \u001b[0mgrl_lambda\u001b[0m\u001b[0;34m)\u001b[0m\u001b[0;34m\u001b[0m\u001b[0;34m\u001b[0m\u001b[0m\n\u001b[0;32m---> 19\u001b[0;31m     \u001b[0mloss_s_label\u001b[0m\u001b[0;34m=\u001b[0m\u001b[0mloss_fn_class\u001b[0m\u001b[0;34m(\u001b[0m\u001b[0mclass_pred\u001b[0m\u001b[0;34m,\u001b[0m \u001b[0my_s\u001b[0m\u001b[0;34m)\u001b[0m\u001b[0;34m\u001b[0m\u001b[0;34m\u001b[0m\u001b[0m\n\u001b[0m\u001b[1;32m     20\u001b[0m     \u001b[0mloss_s_domain\u001b[0m\u001b[0;34m=\u001b[0m\u001b[0mloss_fn_class\u001b[0m\u001b[0;34m(\u001b[0m\u001b[0mdomain_pred\u001b[0m\u001b[0;34m,\u001b[0m \u001b[0my_s_domain\u001b[0m\u001b[0;34m)\u001b[0m\u001b[0;34m\u001b[0m\u001b[0;34m\u001b[0m\u001b[0m\n\u001b[1;32m     21\u001b[0m \u001b[0;34m\u001b[0m\u001b[0m\n",
            "\u001b[0;32m/usr/local/lib/python3.7/dist-packages/torch/nn/modules/module.py\u001b[0m in \u001b[0;36m_call_impl\u001b[0;34m(self, *input, **kwargs)\u001b[0m\n\u001b[1;32m   1128\u001b[0m         if not (self._backward_hooks or self._forward_hooks or self._forward_pre_hooks or _global_backward_hooks\n\u001b[1;32m   1129\u001b[0m                 or _global_forward_hooks or _global_forward_pre_hooks):\n\u001b[0;32m-> 1130\u001b[0;31m             \u001b[0;32mreturn\u001b[0m \u001b[0mforward_call\u001b[0m\u001b[0;34m(\u001b[0m\u001b[0;34m*\u001b[0m\u001b[0minput\u001b[0m\u001b[0;34m,\u001b[0m \u001b[0;34m**\u001b[0m\u001b[0mkwargs\u001b[0m\u001b[0;34m)\u001b[0m\u001b[0;34m\u001b[0m\u001b[0;34m\u001b[0m\u001b[0m\n\u001b[0m\u001b[1;32m   1131\u001b[0m         \u001b[0;31m# Do not call functions when jit is used\u001b[0m\u001b[0;34m\u001b[0m\u001b[0;34m\u001b[0m\u001b[0;34m\u001b[0m\u001b[0m\n\u001b[1;32m   1132\u001b[0m         \u001b[0mfull_backward_hooks\u001b[0m\u001b[0;34m,\u001b[0m \u001b[0mnon_full_backward_hooks\u001b[0m \u001b[0;34m=\u001b[0m \u001b[0;34m[\u001b[0m\u001b[0;34m]\u001b[0m\u001b[0;34m,\u001b[0m \u001b[0;34m[\u001b[0m\u001b[0;34m]\u001b[0m\u001b[0;34m\u001b[0m\u001b[0;34m\u001b[0m\u001b[0m\n",
            "\u001b[0;32m/usr/local/lib/python3.7/dist-packages/torch/nn/modules/loss.py\u001b[0m in \u001b[0;36mforward\u001b[0;34m(self, input, target)\u001b[0m\n\u001b[1;32m    209\u001b[0m \u001b[0;34m\u001b[0m\u001b[0m\n\u001b[1;32m    210\u001b[0m     \u001b[0;32mdef\u001b[0m \u001b[0mforward\u001b[0m\u001b[0;34m(\u001b[0m\u001b[0mself\u001b[0m\u001b[0;34m,\u001b[0m \u001b[0minput\u001b[0m\u001b[0;34m:\u001b[0m \u001b[0mTensor\u001b[0m\u001b[0;34m,\u001b[0m \u001b[0mtarget\u001b[0m\u001b[0;34m:\u001b[0m \u001b[0mTensor\u001b[0m\u001b[0;34m)\u001b[0m \u001b[0;34m->\u001b[0m \u001b[0mTensor\u001b[0m\u001b[0;34m:\u001b[0m\u001b[0;34m\u001b[0m\u001b[0;34m\u001b[0m\u001b[0m\n\u001b[0;32m--> 211\u001b[0;31m         \u001b[0;32mreturn\u001b[0m \u001b[0mF\u001b[0m\u001b[0;34m.\u001b[0m\u001b[0mnll_loss\u001b[0m\u001b[0;34m(\u001b[0m\u001b[0minput\u001b[0m\u001b[0;34m,\u001b[0m \u001b[0mtarget\u001b[0m\u001b[0;34m,\u001b[0m \u001b[0mweight\u001b[0m\u001b[0;34m=\u001b[0m\u001b[0mself\u001b[0m\u001b[0;34m.\u001b[0m\u001b[0mweight\u001b[0m\u001b[0;34m,\u001b[0m \u001b[0mignore_index\u001b[0m\u001b[0;34m=\u001b[0m\u001b[0mself\u001b[0m\u001b[0;34m.\u001b[0m\u001b[0mignore_index\u001b[0m\u001b[0;34m,\u001b[0m \u001b[0mreduction\u001b[0m\u001b[0;34m=\u001b[0m\u001b[0mself\u001b[0m\u001b[0;34m.\u001b[0m\u001b[0mreduction\u001b[0m\u001b[0;34m)\u001b[0m\u001b[0;34m\u001b[0m\u001b[0;34m\u001b[0m\u001b[0m\n\u001b[0m\u001b[1;32m    212\u001b[0m \u001b[0;34m\u001b[0m\u001b[0m\n\u001b[1;32m    213\u001b[0m \u001b[0;34m\u001b[0m\u001b[0m\n",
            "\u001b[0;32m/usr/local/lib/python3.7/dist-packages/torch/nn/functional.py\u001b[0m in \u001b[0;36mnll_loss\u001b[0;34m(input, target, weight, size_average, ignore_index, reduce, reduction)\u001b[0m\n\u001b[1;32m   2687\u001b[0m     \u001b[0;32mif\u001b[0m \u001b[0msize_average\u001b[0m \u001b[0;32mis\u001b[0m \u001b[0;32mnot\u001b[0m \u001b[0;32mNone\u001b[0m \u001b[0;32mor\u001b[0m \u001b[0mreduce\u001b[0m \u001b[0;32mis\u001b[0m \u001b[0;32mnot\u001b[0m \u001b[0;32mNone\u001b[0m\u001b[0;34m:\u001b[0m\u001b[0;34m\u001b[0m\u001b[0;34m\u001b[0m\u001b[0m\n\u001b[1;32m   2688\u001b[0m         \u001b[0mreduction\u001b[0m \u001b[0;34m=\u001b[0m \u001b[0m_Reduction\u001b[0m\u001b[0;34m.\u001b[0m\u001b[0mlegacy_get_string\u001b[0m\u001b[0;34m(\u001b[0m\u001b[0msize_average\u001b[0m\u001b[0;34m,\u001b[0m \u001b[0mreduce\u001b[0m\u001b[0;34m)\u001b[0m\u001b[0;34m\u001b[0m\u001b[0;34m\u001b[0m\u001b[0m\n\u001b[0;32m-> 2689\u001b[0;31m     \u001b[0;32mreturn\u001b[0m \u001b[0mtorch\u001b[0m\u001b[0;34m.\u001b[0m\u001b[0m_C\u001b[0m\u001b[0;34m.\u001b[0m\u001b[0m_nn\u001b[0m\u001b[0;34m.\u001b[0m\u001b[0mnll_loss_nd\u001b[0m\u001b[0;34m(\u001b[0m\u001b[0minput\u001b[0m\u001b[0;34m,\u001b[0m \u001b[0mtarget\u001b[0m\u001b[0;34m,\u001b[0m \u001b[0mweight\u001b[0m\u001b[0;34m,\u001b[0m \u001b[0m_Reduction\u001b[0m\u001b[0;34m.\u001b[0m\u001b[0mget_enum\u001b[0m\u001b[0;34m(\u001b[0m\u001b[0mreduction\u001b[0m\u001b[0;34m)\u001b[0m\u001b[0;34m,\u001b[0m \u001b[0mignore_index\u001b[0m\u001b[0;34m)\u001b[0m\u001b[0;34m\u001b[0m\u001b[0;34m\u001b[0m\u001b[0m\n\u001b[0m\u001b[1;32m   2690\u001b[0m \u001b[0;34m\u001b[0m\u001b[0m\n\u001b[1;32m   2691\u001b[0m \u001b[0;34m\u001b[0m\u001b[0m\n",
            "\u001b[0;31mIndexError\u001b[0m: Target 40 is out of bounds."
          ]
        }
      ]
    },
    {
      "cell_type": "code",
      "source": [
        "def train_model(model, criterion, optimizer, scheduler, num_epochs):\n",
        "    since = time.time()\n",
        "\n",
        "    best_model_wts = copy.deepcopy(model.state_dict())\n",
        "    best_acc = 0.0\n",
        "\n",
        "    dl_source_iter=iter(dataloaders['train'])\n",
        "    dl_target_iter=iter(dataloaders['test'])\n",
        "\n",
        "    for epoch_idx in range(n_epochs):\n",
        "        print(f'Epoch {epoch_idx}/{n_epochs - 1}')\n",
        "        print('=' * 10)\n",
        "\n",
        "        # Each epoch has a training and validation phase\n",
        "        #for phase in ['train', 'test']:\n",
        "        #    if phase == 'train':\n",
        "        #       model.train()  # Set model to training mode\n",
        "        #   else:\n",
        "        #       model.eval()   # Set model to evaluate mode\n",
        "\n",
        "        #   running_loss = 0.0\n",
        "        #   running_corrects = 0\n",
        "\n",
        "            # Iterate over data.\n",
        "        for batch_idx in range(max_batches):\n",
        "            #for inputs, labels in dataloaders[phase]:\n",
        "                #inputs = inputs.to(device)\n",
        "                #labels = labels.to(device)\n",
        "\n",
        "                # zero the parameter gradients\n",
        "          optimizer.zero_grad()\n",
        "\n",
        "          p=float(batch_idx + epoch_idx* max_batches)/(n_epochs * max_batches)\n",
        "          grl_lambda=2./(1.+np.exp(-10*p))-1\n",
        "                \n",
        "                # forward\n",
        "                # track history if only in train\n",
        "                # Train: source  domain\n",
        "          x_s,y_s=next(dl_source_iter)\n",
        "          y_s_domain=torch.zeros(batch_size, dtype=torch.long)\n",
        "\n",
        "          class_pred, domain_pred=model(x_s, grl_lambda)\n",
        "          loss_s_label=loss_fn_class(class_pred, y_s)\n",
        "          loss_s_domain=loss_fn_class(domain_pred, y_s_domain)\n",
        "\n",
        "                # Train: target domain\n",
        "          x_t, _ =next(dl_target_iter)\n",
        "          y_t_domain=torch.ones(batch_size, dtype=torch.long)\n",
        "\n",
        "          _, domain_pred=model(x_t, grl_lambda)\n",
        "          loss_t_domain=loss_fn_domain(domain_pred, y_t_domain)\n",
        "\n",
        "                #backward + optimize only if in training phase\n",
        "          loss = loss_t_domain+loss_s_domain+loss_s_label\n",
        "          loss.backward()\n",
        "          optimizer.step()\n",
        "                \n",
        "                \n",
        "          print(f'[{batch_idx+1}/{max_batches}]'\n",
        "                f'class loss: {loss_s_label.item(): .4f}'\n",
        "                f's_domain_loss: {loss_s_domain.item(): .4f}'\n",
        "                f't_domain loss: {loss_s_domain.item(): .4f}',\n",
        "                f'grl_lambda: {grl_lambda: .3f}'\n",
        "          )\n",
        "\n",
        "                #if batch_idx==10:\n",
        "                 # print('stop')\n",
        "                 # break"
      ],
      "metadata": {
        "id": "X8P3lOL5Ojyn"
      },
      "execution_count": null,
      "outputs": []
    },
    {
      "cell_type": "code",
      "source": [
        "#finetuning\n",
        "\n",
        "model_ft = models.resnet18(pretrained=True)\n",
        "num_ftrs = model_ft.fc.in_features\n",
        "# Here the size of each output sample is set to 2.\n",
        "# Alternatively, it can be generalized to nn.Linear(num_ftrs, len(class_names)).\n",
        "\n",
        "# resnet18 모델을 가져와 기존의 feature를, nn.Linear를 사용하여 n개의 featrue를 분류\n",
        "model_ft.fc = nn.Linear(num_ftrs, 45)\n",
        "\n",
        "model_ft = model_ft.to(device)\n",
        "\n",
        "# 손실함수 정의\n",
        "criterion = nn.CrossEntropyLoss()\n",
        "\n",
        "# Optimzer 정의\n",
        "# Observe that all parameters are being optimized\n",
        "optimizer_ft = optim.Adam(model.parameters(), lr)\n",
        "# Decay LR by a factor of 0.1 every 7 epochs\n",
        "exp_lr_scheduler = lr_scheduler.StepLR(optimizer_ft, step_size=7, gamma=0.1)"
      ],
      "metadata": {
        "colab": {
          "base_uri": "https://localhost:8080/"
        },
        "id": "UFBE5OFh2q67",
        "outputId": "929056b6-dc93-491f-f0df-ee3bc383e865"
      },
      "execution_count": null,
      "outputs": [
        {
          "output_type": "stream",
          "name": "stderr",
          "text": [
            "/usr/local/lib/python3.7/dist-packages/torchvision/models/_utils.py:209: UserWarning: The parameter 'pretrained' is deprecated since 0.13 and will be removed in 0.15, please use 'weights' instead.\n",
            "  f\"The parameter '{pretrained_param}' is deprecated since 0.13 and will be removed in 0.15, \"\n",
            "/usr/local/lib/python3.7/dist-packages/torchvision/models/_utils.py:223: UserWarning: Arguments other than a weight enum or `None` for 'weights' are deprecated since 0.13 and will be removed in 0.15. The current behavior is equivalent to passing `weights=ResNet18_Weights.IMAGENET1K_V1`. You can also use `weights=ResNet18_Weights.DEFAULT` to get the most up-to-date weights.\n",
            "  warnings.warn(msg)\n"
          ]
        }
      ]
    }
  ]
}